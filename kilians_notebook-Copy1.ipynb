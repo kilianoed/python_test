{
 "cells": [
  {
   "cell_type": "markdown",
   "id": "3e0ed716",
   "metadata": {},
   "source": [
    "# Chapter 1"
   ]
  },
  {
   "cell_type": "code",
   "execution_count": 87,
   "id": "a8eaa3df",
   "metadata": {},
   "outputs": [],
   "source": [
    "# schreibe 5 variablen mit unterschiedlichen Datentypen"
   ]
  },
  {
   "cell_type": "code",
   "execution_count": 10,
   "id": "93b6f037",
   "metadata": {},
   "outputs": [],
   "source": [
    "a = 4"
   ]
  },
  {
   "cell_type": "code",
   "execution_count": 11,
   "id": "ba2f17b5",
   "metadata": {},
   "outputs": [],
   "source": [
    "b = 5.2"
   ]
  },
  {
   "cell_type": "code",
   "execution_count": 12,
   "id": "4027384f",
   "metadata": {},
   "outputs": [],
   "source": [
    "c = 3+0j"
   ]
  },
  {
   "cell_type": "code",
   "execution_count": 13,
   "id": "b844926c",
   "metadata": {},
   "outputs": [],
   "source": [
    "d = \"Text\""
   ]
  },
  {
   "cell_type": "code",
   "execution_count": 14,
   "id": "9ee2408f",
   "metadata": {},
   "outputs": [],
   "source": [
    "e = (3, 'socialism')"
   ]
  },
  {
   "cell_type": "code",
   "execution_count": 15,
   "id": "08a4b636",
   "metadata": {},
   "outputs": [],
   "source": [
    "f = 3.7"
   ]
  },
  {
   "cell_type": "code",
   "execution_count": 16,
   "id": "81684cbf",
   "metadata": {},
   "outputs": [],
   "source": [
    "g = 5"
   ]
  },
  {
   "cell_type": "code",
   "execution_count": 17,
   "id": "fb0c72ce",
   "metadata": {},
   "outputs": [],
   "source": [
    "z = \"Beispiel\""
   ]
  },
  {
   "cell_type": "code",
   "execution_count": 18,
   "id": "8f2ed49c",
   "metadata": {},
   "outputs": [],
   "source": [
    "y = [\"das\", \"ist\"]\n",
    "x = [\"ein Beispiel\"]"
   ]
  },
  {
   "cell_type": "code",
   "execution_count": 19,
   "id": "c8fd878e",
   "metadata": {},
   "outputs": [],
   "source": [
    "# Addiere zwei Variablen mit jeweils gleichen Datentypen"
   ]
  },
  {
   "cell_type": "code",
   "execution_count": 20,
   "id": "f03310f0",
   "metadata": {},
   "outputs": [
    {
     "data": {
      "text/plain": [
       "9"
      ]
     },
     "execution_count": 20,
     "metadata": {},
     "output_type": "execute_result"
    }
   ],
   "source": [
    "g+a"
   ]
  },
  {
   "cell_type": "code",
   "execution_count": 21,
   "id": "ef8c387e",
   "metadata": {},
   "outputs": [
    {
     "data": {
      "text/plain": [
       "8.9"
      ]
     },
     "execution_count": 21,
     "metadata": {},
     "output_type": "execute_result"
    }
   ],
   "source": [
    "b+f"
   ]
  },
  {
   "cell_type": "code",
   "execution_count": 22,
   "id": "c8efd488",
   "metadata": {},
   "outputs": [
    {
     "data": {
      "text/plain": [
       "'TextBeispiel'"
      ]
     },
     "execution_count": 22,
     "metadata": {},
     "output_type": "execute_result"
    }
   ],
   "source": [
    "d + z"
   ]
  },
  {
   "cell_type": "code",
   "execution_count": 23,
   "id": "8f2eaf2f",
   "metadata": {},
   "outputs": [
    {
     "data": {
      "text/plain": [
       "['das', 'ist', 'ein Beispiel']"
      ]
     },
     "execution_count": 23,
     "metadata": {},
     "output_type": "execute_result"
    }
   ],
   "source": [
    "y + x"
   ]
  },
  {
   "cell_type": "code",
   "execution_count": 24,
   "id": "4ca3d757",
   "metadata": {},
   "outputs": [],
   "source": [
    "# Subtrahiere zwei Variablen mit jeweils gleichen Datentypen"
   ]
  },
  {
   "cell_type": "code",
   "execution_count": 25,
   "id": "dde81dd1",
   "metadata": {},
   "outputs": [
    {
     "data": {
      "text/plain": [
       "1"
      ]
     },
     "execution_count": 25,
     "metadata": {},
     "output_type": "execute_result"
    }
   ],
   "source": [
    "g-a"
   ]
  },
  {
   "cell_type": "code",
   "execution_count": 26,
   "id": "ff185f43",
   "metadata": {},
   "outputs": [
    {
     "data": {
      "text/plain": [
       "1.5"
      ]
     },
     "execution_count": 26,
     "metadata": {},
     "output_type": "execute_result"
    }
   ],
   "source": [
    "b-f"
   ]
  },
  {
   "cell_type": "code",
   "execution_count": 27,
   "id": "43163b7a",
   "metadata": {},
   "outputs": [
    {
     "ename": "TypeError",
     "evalue": "unsupported operand type(s) for -: 'str' and 'str'",
     "output_type": "error",
     "traceback": [
      "\u001b[0;31m---------------------------------------------------------------------------\u001b[0m",
      "\u001b[0;31mTypeError\u001b[0m                                 Traceback (most recent call last)",
      "Cell \u001b[0;32mIn[27], line 1\u001b[0m\n\u001b[0;32m----> 1\u001b[0m \u001b[43md\u001b[49m\u001b[43m \u001b[49m\u001b[38;5;241;43m-\u001b[39;49m\u001b[43m \u001b[49m\u001b[43mz\u001b[49m\n",
      "\u001b[0;31mTypeError\u001b[0m: unsupported operand type(s) for -: 'str' and 'str'"
     ]
    }
   ],
   "source": [
    "d - z"
   ]
  },
  {
   "cell_type": "code",
   "execution_count": 28,
   "id": "5a17a507",
   "metadata": {},
   "outputs": [
    {
     "ename": "TypeError",
     "evalue": "unsupported operand type(s) for -: 'list' and 'list'",
     "output_type": "error",
     "traceback": [
      "\u001b[0;31m---------------------------------------------------------------------------\u001b[0m",
      "\u001b[0;31mTypeError\u001b[0m                                 Traceback (most recent call last)",
      "Cell \u001b[0;32mIn[28], line 1\u001b[0m\n\u001b[0;32m----> 1\u001b[0m \u001b[43my\u001b[49m\u001b[43m \u001b[49m\u001b[38;5;241;43m-\u001b[39;49m\u001b[43m \u001b[49m\u001b[43mx\u001b[49m\n",
      "\u001b[0;31mTypeError\u001b[0m: unsupported operand type(s) for -: 'list' and 'list'"
     ]
    }
   ],
   "source": [
    "y - x"
   ]
  },
  {
   "cell_type": "code",
   "execution_count": 29,
   "id": "afce4a2d",
   "metadata": {},
   "outputs": [],
   "source": [
    "# Schreibe eine Liste und nimm das 2. und 4. Element der Liste, sowie das 2.-4."
   ]
  },
  {
   "cell_type": "code",
   "execution_count": 30,
   "id": "9880139e",
   "metadata": {},
   "outputs": [],
   "source": [
    "h = [a, b, c, d, f]"
   ]
  },
  {
   "cell_type": "code",
   "execution_count": 31,
   "id": "28c1b1e3",
   "metadata": {},
   "outputs": [
    {
     "name": "stdout",
     "output_type": "stream",
     "text": [
      "[4, 5.2, (3+0j), 'Text', 3.7]\n"
     ]
    }
   ],
   "source": [
    "print (h)"
   ]
  },
  {
   "cell_type": "code",
   "execution_count": 32,
   "id": "ee0908fe",
   "metadata": {},
   "outputs": [
    {
     "name": "stdout",
     "output_type": "stream",
     "text": [
      "5.2 Text\n"
     ]
    }
   ],
   "source": [
    "print(h[1],h[3])"
   ]
  },
  {
   "cell_type": "code",
   "execution_count": 33,
   "id": "c2e9211e",
   "metadata": {},
   "outputs": [
    {
     "name": "stdout",
     "output_type": "stream",
     "text": [
      "[5.2, (3+0j), 'Text']\n"
     ]
    }
   ],
   "source": [
    "print(h[1:4])"
   ]
  },
  {
   "cell_type": "code",
   "execution_count": 35,
   "id": "eed23a61",
   "metadata": {},
   "outputs": [
    {
     "name": "stdout",
     "output_type": "stream",
     "text": [
      "[4, 5.2, 2, 3, 4, 4, 3.7]\n"
     ]
    }
   ],
   "source": [
    "h[2:4] = [2,3,4]\n",
    "print(h)"
   ]
  },
  {
   "cell_type": "code",
   "execution_count": 106,
   "id": "ccae6d36",
   "metadata": {},
   "outputs": [],
   "source": [
    "# Verändere einen String"
   ]
  },
  {
   "cell_type": "code",
   "execution_count": 41,
   "id": "6d12c283",
   "metadata": {},
   "outputs": [
    {
     "ename": "TypeError",
     "evalue": "'str' object does not support item assignment",
     "output_type": "error",
     "traceback": [
      "\u001b[0;31m---------------------------------------------------------------------------\u001b[0m",
      "\u001b[0;31mTypeError\u001b[0m                                 Traceback (most recent call last)",
      "Cell \u001b[0;32mIn[41], line 1\u001b[0m\n\u001b[0;32m----> 1\u001b[0m \u001b[43mz\u001b[49m\u001b[43m[\u001b[49m\u001b[38;5;241;43m0\u001b[39;49m\u001b[43m]\u001b[49m \u001b[38;5;241m=\u001b[39m \u001b[38;5;124m\"\u001b[39m\u001b[38;5;124mD\u001b[39m\u001b[38;5;124m\"\u001b[39m\n",
      "\u001b[0;31mTypeError\u001b[0m: 'str' object does not support item assignment"
     ]
    }
   ],
   "source": [
    "z[0] = \"D\""
   ]
  },
  {
   "cell_type": "code",
   "execution_count": 107,
   "id": "8e495cba",
   "metadata": {},
   "outputs": [],
   "source": [
    "## Veränderte Ausgabe"
   ]
  },
  {
   "cell_type": "code",
   "execution_count": 36,
   "id": "e5fdb78e",
   "metadata": {},
   "outputs": [
    {
     "data": {
      "text/plain": [
       "'TEXT'"
      ]
     },
     "execution_count": 36,
     "metadata": {},
     "output_type": "execute_result"
    }
   ],
   "source": [
    "d.upper()"
   ]
  },
  {
   "cell_type": "code",
   "execution_count": 37,
   "id": "de5cd624",
   "metadata": {},
   "outputs": [],
   "source": [
    "## Veränderte Variable"
   ]
  },
  {
   "cell_type": "code",
   "execution_count": 38,
   "id": "19527727",
   "metadata": {},
   "outputs": [],
   "source": [
    "d = \"key\""
   ]
  },
  {
   "cell_type": "code",
   "execution_count": 39,
   "id": "8e1eb6a4",
   "metadata": {},
   "outputs": [
    {
     "name": "stdout",
     "output_type": "stream",
     "text": [
      "key\n"
     ]
    }
   ],
   "source": [
    "print(d)"
   ]
  },
  {
   "cell_type": "code",
   "execution_count": 112,
   "id": "f18fe3dc",
   "metadata": {},
   "outputs": [],
   "source": [
    "# Verändere (verlängere) eine Liste"
   ]
  },
  {
   "cell_type": "code",
   "execution_count": 113,
   "id": "906c0272",
   "metadata": {},
   "outputs": [],
   "source": [
    "h.append(42)"
   ]
  },
  {
   "cell_type": "code",
   "execution_count": 114,
   "id": "9c247353",
   "metadata": {},
   "outputs": [
    {
     "name": "stdout",
     "output_type": "stream",
     "text": [
      "[4, 5.2, (3+0j), 'Text', 3.7, 42]\n"
     ]
    }
   ],
   "source": [
    "print(h)"
   ]
  },
  {
   "cell_type": "code",
   "execution_count": 115,
   "id": "a2b366c0",
   "metadata": {},
   "outputs": [],
   "source": [
    "# Verändere (verlängere) ein Tupel"
   ]
  },
  {
   "cell_type": "code",
   "execution_count": 116,
   "id": "12050158",
   "metadata": {},
   "outputs": [],
   "source": [
    "k = ('one', 2.0, 3, 'four')"
   ]
  },
  {
   "cell_type": "code",
   "execution_count": 117,
   "id": "a40b7505",
   "metadata": {},
   "outputs": [],
   "source": [
    "l = list(k)"
   ]
  },
  {
   "cell_type": "code",
   "execution_count": 118,
   "id": "a68c2cd9",
   "metadata": {},
   "outputs": [],
   "source": [
    "l.append(5.0)"
   ]
  },
  {
   "cell_type": "code",
   "execution_count": 119,
   "id": "fba8a093",
   "metadata": {},
   "outputs": [],
   "source": [
    "k = tuple(l)"
   ]
  },
  {
   "cell_type": "code",
   "execution_count": 120,
   "id": "84c3f5c0",
   "metadata": {},
   "outputs": [
    {
     "name": "stdout",
     "output_type": "stream",
     "text": [
      "('one', 2.0, 3, 'four', 5.0)\n"
     ]
    }
   ],
   "source": [
    "print (k)"
   ]
  },
  {
   "cell_type": "markdown",
   "id": "66445237",
   "metadata": {},
   "source": [
    "# Chapter 2"
   ]
  },
  {
   "cell_type": "code",
   "execution_count": 172,
   "id": "1937b388",
   "metadata": {},
   "outputs": [],
   "source": [
    "# Iteriere über eine Liste und gebe jedes Element aus"
   ]
  },
  {
   "cell_type": "code",
   "execution_count": 173,
   "id": "0f29e822",
   "metadata": {},
   "outputs": [],
   "source": [
    "a = ['one', 3, 4, 0.5, 'water', (5, 'text')]"
   ]
  },
  {
   "cell_type": "code",
   "execution_count": 174,
   "id": "7a39ce4e",
   "metadata": {},
   "outputs": [
    {
     "name": "stdout",
     "output_type": "stream",
     "text": [
      "one\n",
      "3\n",
      "4\n",
      "0.5\n",
      "water\n",
      "(5, 'text')\n"
     ]
    }
   ],
   "source": [
    "for x in a:\n",
    "    print(x)"
   ]
  },
  {
   "cell_type": "code",
   "execution_count": 175,
   "id": "5e6e3f46",
   "metadata": {},
   "outputs": [],
   "source": [
    "# Iteriere über eine Liste und gebe nur Elemente aus die type String sind"
   ]
  },
  {
   "cell_type": "code",
   "execution_count": 176,
   "id": "46ea9caf",
   "metadata": {
    "scrolled": true
   },
   "outputs": [
    {
     "name": "stdout",
     "output_type": "stream",
     "text": [
      "one\n",
      "water\n"
     ]
    }
   ],
   "source": [
    "for element in a:\n",
    "    if type(element) == str:\n",
    "        print(element)"
   ]
  },
  {
   "cell_type": "code",
   "execution_count": 177,
   "id": "32f3a7fb",
   "metadata": {},
   "outputs": [],
   "source": [
    "# Iteriere über ein Tupel und gebe jedes Element aus"
   ]
  },
  {
   "cell_type": "code",
   "execution_count": 178,
   "id": "211082ea",
   "metadata": {},
   "outputs": [],
   "source": [
    "b = (5, 3.4, 'hello', 65, (4, 5))"
   ]
  },
  {
   "cell_type": "code",
   "execution_count": 179,
   "id": "53ad9d8e",
   "metadata": {},
   "outputs": [
    {
     "name": "stdout",
     "output_type": "stream",
     "text": [
      "5\n",
      "3.4\n",
      "hello\n",
      "65\n",
      "(4, 5)\n"
     ]
    }
   ],
   "source": [
    "for x in b:\n",
    "    print(x)"
   ]
  },
  {
   "cell_type": "code",
   "execution_count": 180,
   "id": "25cd7126",
   "metadata": {},
   "outputs": [],
   "source": [
    "# Iteriere über ein Tupel und gebe jedes Element sowie dessen Index aus"
   ]
  },
  {
   "cell_type": "code",
   "execution_count": 181,
   "id": "bb9ad931",
   "metadata": {},
   "outputs": [
    {
     "name": "stdout",
     "output_type": "stream",
     "text": [
      "5 is no. 0\n",
      "3.4 is no. 1\n",
      "hello is no. 2\n",
      "65 is no. 3\n",
      "(4, 5) is no. 4\n"
     ]
    }
   ],
   "source": [
    "for element in b:\n",
    "    print(element, \"is no.\",b.index(element))"
   ]
  },
  {
   "cell_type": "code",
   "execution_count": 198,
   "id": "bb432e01",
   "metadata": {},
   "outputs": [
    {
     "name": "stdout",
     "output_type": "stream",
     "text": [
      "0 5\n",
      "1 3.4\n",
      "2 hello\n",
      "3 65\n",
      "4 (4, 5)\n"
     ]
    }
   ],
   "source": [
    "for i, element in enumerate(b):\n",
    "    print(i, element)"
   ]
  },
  {
   "cell_type": "code",
   "execution_count": 182,
   "id": "d0bafde3",
   "metadata": {},
   "outputs": [],
   "source": [
    "# Iteriere über die keys in einem dictionary"
   ]
  },
  {
   "cell_type": "code",
   "execution_count": 183,
   "id": "17768180",
   "metadata": {},
   "outputs": [],
   "source": [
    "c = {\n",
    "    \"model\": \"NX-6\",\n",
    "    \"incept date\": \"2015\",\n",
    "    \"serial number\": \"NX6-409230RB\",\n",
    "    \"name\": \"roy\"\n",
    "}"
   ]
  },
  {
   "cell_type": "code",
   "execution_count": 184,
   "id": "5cd7e912",
   "metadata": {},
   "outputs": [
    {
     "name": "stdout",
     "output_type": "stream",
     "text": [
      "model\n",
      "incept date\n",
      "serial number\n",
      "name\n"
     ]
    }
   ],
   "source": [
    "for key in c:\n",
    "    print(key)    "
   ]
  },
  {
   "cell_type": "code",
   "execution_count": 185,
   "id": "acbb561f",
   "metadata": {},
   "outputs": [],
   "source": [
    "# Iteriere über eine Liste und gebe ein anderes Feedback für jeden Datentyp\n",
    "# (mindestens drei unterschiedliche Datentypen)"
   ]
  },
  {
   "cell_type": "code",
   "execution_count": 204,
   "id": "8387ca3d",
   "metadata": {},
   "outputs": [
    {
     "name": "stdout",
     "output_type": "stream",
     "text": [
      "['one', 3, 4, 0.5, 'water', (5, 'text'), ['i]']]\n",
      "['one', 3, 4, 0.5, 'water', (5, 'text'), ['i]'], ['i']]\n"
     ]
    }
   ],
   "source": [
    "print(a)\n",
    "a.append([\"i\"])\n",
    "print(a)\n"
   ]
  },
  {
   "cell_type": "code",
   "execution_count": 203,
   "id": "0e548555",
   "metadata": {},
   "outputs": [
    {
     "name": "stdout",
     "output_type": "stream",
     "text": [
      "This is a string\n",
      "This is an integer\n",
      "This is an integer\n",
      "This is a float\n",
      "This is a string\n",
      "This is a tuple\n",
      "Type not found\n"
     ]
    }
   ],
   "source": [
    "for element in a:\n",
    "    if type(element) == str:\n",
    "        print(\"This is a string\");\n",
    "    elif type(element) == int:\n",
    "        print(\"This is an integer\");\n",
    "    elif type(element) == float:\n",
    "        print(\"This is a float\");\n",
    "    elif type(element) == tuple:\n",
    "        print(\"This is a tuple\")\n",
    "    else:\n",
    "        print(\"Type not found\")"
   ]
  },
  {
   "cell_type": "code",
   "execution_count": 187,
   "id": "7ecdab21",
   "metadata": {},
   "outputs": [],
   "source": [
    "# Iteriere über einen String"
   ]
  },
  {
   "cell_type": "code",
   "execution_count": 188,
   "id": "ab68f0bd",
   "metadata": {},
   "outputs": [],
   "source": [
    "d = 'this is a string'"
   ]
  },
  {
   "cell_type": "code",
   "execution_count": 196,
   "id": "2d7e118f",
   "metadata": {},
   "outputs": [
    {
     "name": "stdout",
     "output_type": "stream",
     "text": [
      "t\n",
      "h\n",
      "i\n",
      "s\n",
      " \n",
      "i\n",
      "s\n",
      " \n",
      "a\n",
      " \n",
      "s\n",
      "t\n",
      "r\n",
      "i\n",
      "n\n",
      "g\n"
     ]
    }
   ],
   "source": [
    "for element in d:\n",
    "    print(element)"
   ]
  },
  {
   "cell_type": "code",
   "execution_count": 194,
   "id": "993cfe47",
   "metadata": {},
   "outputs": [],
   "source": [
    "# Iteriere über zwei Listen gleichzeitig"
   ]
  },
  {
   "cell_type": "code",
   "execution_count": 195,
   "id": "dfecb2f2",
   "metadata": {},
   "outputs": [],
   "source": [
    "e = list(b)"
   ]
  },
  {
   "cell_type": "code",
   "execution_count": 197,
   "id": "8ed5d6e2",
   "metadata": {},
   "outputs": [
    {
     "name": "stdout",
     "output_type": "stream",
     "text": [
      "one and 5\n",
      "3 and 3.4\n",
      "4 and hello\n",
      "0.5 and 65\n",
      "water and (4, 5)\n"
     ]
    }
   ],
   "source": [
    "for x, y in zip(a, e):\n",
    "    print(x, \"and\", y)"
   ]
  },
  {
   "cell_type": "markdown",
   "id": "29e76f79",
   "metadata": {},
   "source": [
    "# Chapter 3"
   ]
  },
  {
   "cell_type": "code",
   "execution_count": 301,
   "id": "47bb5da8",
   "metadata": {},
   "outputs": [],
   "source": [
    "# funktionen\n",
    "def add_items(a, b):\n",
    "    c = a + b\n",
    "    return c"
   ]
  },
  {
   "cell_type": "code",
   "execution_count": 302,
   "id": "d036b8fe",
   "metadata": {},
   "outputs": [
    {
     "data": {
      "text/plain": [
       "3"
      ]
     },
     "execution_count": 302,
     "metadata": {},
     "output_type": "execute_result"
    }
   ],
   "source": [
    "add_items(1, 2)"
   ]
  },
  {
   "cell_type": "code",
   "execution_count": 303,
   "id": "99e225e0",
   "metadata": {},
   "outputs": [],
   "source": [
    "def add_items_short(a, b):\n",
    "    e = 5\n",
    "    b = b + e\n",
    "    return a + b"
   ]
  },
  {
   "cell_type": "code",
   "execution_count": 304,
   "id": "99fba2a4",
   "metadata": {},
   "outputs": [
    {
     "data": {
      "text/plain": [
       "8"
      ]
     },
     "execution_count": 304,
     "metadata": {},
     "output_type": "execute_result"
    }
   ],
   "source": [
    "add_items_short(1, 2)"
   ]
  },
  {
   "cell_type": "code",
   "execution_count": 305,
   "id": "c87063c4",
   "metadata": {},
   "outputs": [],
   "source": [
    "def greeting():\n",
    "    print(\"Hi\")"
   ]
  },
  {
   "cell_type": "code",
   "execution_count": 306,
   "id": "38f20de5",
   "metadata": {},
   "outputs": [
    {
     "name": "stdout",
     "output_type": "stream",
     "text": [
      "Hi\n"
     ]
    }
   ],
   "source": [
    "greeting()"
   ]
  },
  {
   "cell_type": "code",
   "execution_count": 307,
   "id": "eddbef90",
   "metadata": {},
   "outputs": [],
   "source": [
    "# schreibe eine Funktion die eine Liste als input argument nimmt \n",
    "# und alle elemente einzeln zurückgibt"
   ]
  },
  {
   "cell_type": "code",
   "execution_count": 325,
   "id": "1604eaed",
   "metadata": {},
   "outputs": [],
   "source": [
    "def print_list_elements(a):\n",
    "    for element in a:\n",
    "        print(element)"
   ]
  },
  {
   "cell_type": "code",
   "execution_count": 326,
   "id": "91e9af2c",
   "metadata": {},
   "outputs": [
    {
     "name": "stdout",
     "output_type": "stream",
     "text": [
      "one\n",
      "3\n",
      "4\n",
      "0.5\n",
      "water\n",
      "(5, 'text')\n",
      "['i]']\n",
      "['i']\n"
     ]
    }
   ],
   "source": [
    "print_list_elements(a)"
   ]
  },
  {
   "cell_type": "code",
   "execution_count": 310,
   "id": "c67534fd",
   "metadata": {},
   "outputs": [
    {
     "name": "stdout",
     "output_type": "stream",
     "text": [
      "5\n",
      "3.4\n",
      "hello\n",
      "65\n",
      "(4, 5)\n"
     ]
    }
   ],
   "source": [
    "print_list_elements(e)"
   ]
  },
  {
   "cell_type": "code",
   "execution_count": 311,
   "id": "38f7054b",
   "metadata": {},
   "outputs": [],
   "source": [
    "# Schreibe eine Funktion die ein integer mit 3 multipliziert - bis 10*3"
   ]
  },
  {
   "cell_type": "code",
   "execution_count": 331,
   "id": "a814346c",
   "metadata": {},
   "outputs": [],
   "source": [
    "def multiply_by_three (x):\n",
    "    for n in range(1,11):\n",
    "        print (x *3 *n)"
   ]
  },
  {
   "cell_type": "code",
   "execution_count": 332,
   "id": "388a7dcc",
   "metadata": {},
   "outputs": [
    {
     "name": "stdout",
     "output_type": "stream",
     "text": [
      "12\n",
      "24\n",
      "36\n",
      "48\n",
      "60\n",
      "72\n",
      "84\n",
      "96\n",
      "108\n",
      "120\n"
     ]
    }
   ],
   "source": [
    "multiply_by_three(4)"
   ]
  },
  {
   "cell_type": "code",
   "execution_count": 317,
   "id": "a1089ff2",
   "metadata": {},
   "outputs": [],
   "source": [
    "def multiply_by_x (y,x):\n",
    "    for n in range(1,11):\n",
    "        print (x *y *n)"
   ]
  },
  {
   "cell_type": "code",
   "execution_count": 318,
   "id": "abe32799",
   "metadata": {},
   "outputs": [
    {
     "name": "stdout",
     "output_type": "stream",
     "text": [
      "32\n",
      "64\n",
      "96\n",
      "128\n",
      "160\n",
      "192\n",
      "224\n",
      "256\n",
      "288\n",
      "320\n"
     ]
    }
   ],
   "source": [
    "multiply_by_x (8, 4)"
   ]
  },
  {
   "cell_type": "code",
   "execution_count": 314,
   "id": "2c460223",
   "metadata": {},
   "outputs": [],
   "source": [
    "# Schreibe eine Funktion die ein integer mit 3 multipliziert - bis 10*3\n",
    "# und das Ergebnis als Liste zurück gibt"
   ]
  },
  {
   "cell_type": "code",
   "execution_count": 315,
   "id": "64e13792",
   "metadata": {},
   "outputs": [],
   "source": [
    "def multiply_by_three_list (x):\n",
    "   print([x * 3 * n for n in range(1,11)])"
   ]
  },
  {
   "cell_type": "code",
   "execution_count": 316,
   "id": "bf00c2f4",
   "metadata": {},
   "outputs": [
    {
     "name": "stdout",
     "output_type": "stream",
     "text": [
      "[15, 30, 45, 60, 75, 90, 105, 120, 135, 150]\n"
     ]
    }
   ],
   "source": [
    "multiply_by_three_list (5)"
   ]
  },
  {
   "cell_type": "code",
   "execution_count": null,
   "id": "2b0fd040",
   "metadata": {},
   "outputs": [],
   "source": [
    "# tests/fragen"
   ]
  },
  {
   "cell_type": "code",
   "execution_count": 334,
   "id": "f2d2bdf6",
   "metadata": {},
   "outputs": [],
   "source": [
    "def multiply_by_three_test (x):\n",
    "   print(x * 3 * n for n in range(1,11))"
   ]
  },
  {
   "cell_type": "code",
   "execution_count": 335,
   "id": "af22d209",
   "metadata": {},
   "outputs": [
    {
     "name": "stdout",
     "output_type": "stream",
     "text": [
      "<generator object multiply_by_three_test.<locals>.<genexpr> at 0x7f863846b660>\n"
     ]
    }
   ],
   "source": [
    "multiply_by_three_test (2)"
   ]
  },
  {
   "cell_type": "code",
   "execution_count": null,
   "id": "3823022f",
   "metadata": {},
   "outputs": [],
   "source": []
  }
 ],
 "metadata": {
  "kernelspec": {
   "display_name": "Python 3 (ipykernel)",
   "language": "python",
   "name": "python3"
  },
  "language_info": {
   "codemirror_mode": {
    "name": "ipython",
    "version": 3
   },
   "file_extension": ".py",
   "mimetype": "text/x-python",
   "name": "python",
   "nbconvert_exporter": "python",
   "pygments_lexer": "ipython3",
   "version": "3.9.0"
  }
 },
 "nbformat": 4,
 "nbformat_minor": 5
}
