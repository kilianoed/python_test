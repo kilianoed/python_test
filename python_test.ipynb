{
 "cells": [
  {
   "cell_type": "code",
   "execution_count": 1,
   "id": "3248d3cb",
   "metadata": {},
   "outputs": [],
   "source": [
    "import pandas as pd"
   ]
  },
  {
   "cell_type": "code",
   "execution_count": 2,
   "id": "0d0822b3",
   "metadata": {},
   "outputs": [],
   "source": [
    "import numpy as np"
   ]
  },
  {
   "cell_type": "code",
   "execution_count": 3,
   "id": "f0009471",
   "metadata": {},
   "outputs": [],
   "source": [
    "import matplotlib.pyplot as plt"
   ]
  },
  {
   "cell_type": "code",
   "execution_count": 4,
   "id": "4aea8ed5",
   "metadata": {},
   "outputs": [],
   "source": [
    "import seaborn as sns"
   ]
  },
  {
   "cell_type": "code",
   "execution_count": 5,
   "id": "e4aa92db",
   "metadata": {},
   "outputs": [],
   "source": [
    "import spacy"
   ]
  },
  {
   "cell_type": "code",
   "execution_count": 6,
   "id": "98d4c71b",
   "metadata": {},
   "outputs": [],
   "source": [
    "from spacy import displacy"
   ]
  },
  {
   "cell_type": "code",
   "execution_count": 7,
   "id": "0f956cc0",
   "metadata": {},
   "outputs": [],
   "source": [
    "from transformers import pipeline"
   ]
  },
  {
   "cell_type": "code",
   "execution_count": 8,
   "id": "772b4360",
   "metadata": {},
   "outputs": [],
   "source": [
    "import pprint"
   ]
  },
  {
   "cell_type": "code",
   "execution_count": 23,
   "id": "3ce48937",
   "metadata": {},
   "outputs": [],
   "source": [
    "import cv2"
   ]
  },
  {
   "cell_type": "code",
   "execution_count": 54,
   "id": "2ac4748e",
   "metadata": {},
   "outputs": [],
   "source": [
    "import pybboxes as pbx"
   ]
  },
  {
   "cell_type": "markdown",
   "id": "3e0ed716",
   "metadata": {},
   "source": [
    "# Chapter 1"
   ]
  },
  {
   "cell_type": "code",
   "execution_count": null,
   "id": "a8eaa3df",
   "metadata": {},
   "outputs": [],
   "source": [
    "# schreibe 5 variablen mit unterschiedlichen Datentypen"
   ]
  },
  {
   "cell_type": "code",
   "execution_count": null,
   "id": "93b6f037",
   "metadata": {},
   "outputs": [],
   "source": [
    "a = 4"
   ]
  },
  {
   "cell_type": "code",
   "execution_count": null,
   "id": "ba2f17b5",
   "metadata": {},
   "outputs": [],
   "source": [
    "b = 5.2"
   ]
  },
  {
   "cell_type": "code",
   "execution_count": null,
   "id": "4027384f",
   "metadata": {},
   "outputs": [],
   "source": [
    "c = 3+0j"
   ]
  },
  {
   "cell_type": "code",
   "execution_count": null,
   "id": "b844926c",
   "metadata": {},
   "outputs": [],
   "source": [
    "d = \"Text\""
   ]
  },
  {
   "cell_type": "code",
   "execution_count": null,
   "id": "9ee2408f",
   "metadata": {},
   "outputs": [],
   "source": [
    "e = (3, 'socialism')"
   ]
  },
  {
   "cell_type": "code",
   "execution_count": null,
   "id": "08a4b636",
   "metadata": {},
   "outputs": [],
   "source": [
    "f = 3.7"
   ]
  },
  {
   "cell_type": "code",
   "execution_count": null,
   "id": "81684cbf",
   "metadata": {},
   "outputs": [],
   "source": [
    "g = 5"
   ]
  },
  {
   "cell_type": "code",
   "execution_count": null,
   "id": "fb0c72ce",
   "metadata": {},
   "outputs": [],
   "source": [
    "z = \"Beispiel\""
   ]
  },
  {
   "cell_type": "code",
   "execution_count": null,
   "id": "8f2ed49c",
   "metadata": {},
   "outputs": [],
   "source": [
    "y = [\"das\", \"ist\"]\n",
    "x = [\"ein Beispiel\"]"
   ]
  },
  {
   "cell_type": "code",
   "execution_count": null,
   "id": "c8fd878e",
   "metadata": {},
   "outputs": [],
   "source": [
    "# Addiere zwei Variablen mit jeweils gleichen Datentypen"
   ]
  },
  {
   "cell_type": "code",
   "execution_count": null,
   "id": "f03310f0",
   "metadata": {},
   "outputs": [],
   "source": [
    "g+a"
   ]
  },
  {
   "cell_type": "code",
   "execution_count": null,
   "id": "ef8c387e",
   "metadata": {},
   "outputs": [],
   "source": [
    "b+f"
   ]
  },
  {
   "cell_type": "code",
   "execution_count": null,
   "id": "c8efd488",
   "metadata": {},
   "outputs": [],
   "source": [
    "d + z"
   ]
  },
  {
   "cell_type": "code",
   "execution_count": null,
   "id": "8f2eaf2f",
   "metadata": {},
   "outputs": [],
   "source": [
    "y + x"
   ]
  },
  {
   "cell_type": "code",
   "execution_count": null,
   "id": "4ca3d757",
   "metadata": {},
   "outputs": [],
   "source": [
    "# Subtrahiere zwei Variablen mit jeweils gleichen Datentypen"
   ]
  },
  {
   "cell_type": "code",
   "execution_count": null,
   "id": "dde81dd1",
   "metadata": {},
   "outputs": [],
   "source": [
    "g-a"
   ]
  },
  {
   "cell_type": "code",
   "execution_count": null,
   "id": "ff185f43",
   "metadata": {},
   "outputs": [],
   "source": [
    "b-f"
   ]
  },
  {
   "cell_type": "code",
   "execution_count": null,
   "id": "afce4a2d",
   "metadata": {},
   "outputs": [],
   "source": [
    "# Schreibe eine Liste und nimm das 2. und 4. Element der Liste, sowie das 2.-4."
   ]
  },
  {
   "cell_type": "code",
   "execution_count": null,
   "id": "9880139e",
   "metadata": {},
   "outputs": [],
   "source": [
    "h = [a, b, c, d, f]"
   ]
  },
  {
   "cell_type": "code",
   "execution_count": null,
   "id": "28c1b1e3",
   "metadata": {},
   "outputs": [],
   "source": [
    "print (h)"
   ]
  },
  {
   "cell_type": "code",
   "execution_count": null,
   "id": "ee0908fe",
   "metadata": {},
   "outputs": [],
   "source": [
    "print(h[1],h[3])"
   ]
  },
  {
   "cell_type": "code",
   "execution_count": null,
   "id": "c2e9211e",
   "metadata": {},
   "outputs": [],
   "source": [
    "print(h[1:4])"
   ]
  },
  {
   "cell_type": "code",
   "execution_count": null,
   "id": "eed23a61",
   "metadata": {},
   "outputs": [],
   "source": [
    "h[2:4] = [2,3,4]\n",
    "print(h)"
   ]
  },
  {
   "cell_type": "code",
   "execution_count": null,
   "id": "ccae6d36",
   "metadata": {},
   "outputs": [],
   "source": [
    "# Verändere einen String"
   ]
  },
  {
   "cell_type": "code",
   "execution_count": null,
   "id": "6d12c283",
   "metadata": {
    "scrolled": true
   },
   "outputs": [],
   "source": [
    "z[0] = \"D\""
   ]
  },
  {
   "cell_type": "code",
   "execution_count": null,
   "id": "8e495cba",
   "metadata": {},
   "outputs": [],
   "source": [
    "## Veränderte Ausgabe"
   ]
  },
  {
   "cell_type": "code",
   "execution_count": null,
   "id": "e5fdb78e",
   "metadata": {},
   "outputs": [],
   "source": [
    "d.upper()"
   ]
  },
  {
   "cell_type": "code",
   "execution_count": null,
   "id": "de5cd624",
   "metadata": {},
   "outputs": [],
   "source": [
    "## Veränderte Variable"
   ]
  },
  {
   "cell_type": "code",
   "execution_count": null,
   "id": "19527727",
   "metadata": {},
   "outputs": [],
   "source": [
    "d = \"key\""
   ]
  },
  {
   "cell_type": "code",
   "execution_count": null,
   "id": "8e1eb6a4",
   "metadata": {},
   "outputs": [],
   "source": [
    "print(d)"
   ]
  },
  {
   "cell_type": "code",
   "execution_count": null,
   "id": "f18fe3dc",
   "metadata": {},
   "outputs": [],
   "source": [
    "# Verändere (verlängere) eine Liste"
   ]
  },
  {
   "cell_type": "code",
   "execution_count": null,
   "id": "906c0272",
   "metadata": {},
   "outputs": [],
   "source": [
    "h.append(42)"
   ]
  },
  {
   "cell_type": "code",
   "execution_count": null,
   "id": "9c247353",
   "metadata": {},
   "outputs": [],
   "source": [
    "print(h)"
   ]
  },
  {
   "cell_type": "code",
   "execution_count": null,
   "id": "a2b366c0",
   "metadata": {},
   "outputs": [],
   "source": [
    "# Verändere (verlängere) ein Tupel"
   ]
  },
  {
   "cell_type": "code",
   "execution_count": null,
   "id": "12050158",
   "metadata": {},
   "outputs": [],
   "source": [
    "k = ('one', 2.0, 3, 'four')"
   ]
  },
  {
   "cell_type": "code",
   "execution_count": null,
   "id": "a40b7505",
   "metadata": {},
   "outputs": [],
   "source": [
    "l = list(k)"
   ]
  },
  {
   "cell_type": "code",
   "execution_count": null,
   "id": "a68c2cd9",
   "metadata": {},
   "outputs": [],
   "source": [
    "l.append(5.0)"
   ]
  },
  {
   "cell_type": "code",
   "execution_count": null,
   "id": "fba8a093",
   "metadata": {},
   "outputs": [],
   "source": [
    "k = tuple(l)"
   ]
  },
  {
   "cell_type": "code",
   "execution_count": null,
   "id": "84c3f5c0",
   "metadata": {},
   "outputs": [],
   "source": [
    "print (k)"
   ]
  },
  {
   "cell_type": "markdown",
   "id": "66445237",
   "metadata": {},
   "source": [
    "# Chapter 2"
   ]
  },
  {
   "cell_type": "code",
   "execution_count": null,
   "id": "1937b388",
   "metadata": {},
   "outputs": [],
   "source": [
    "# Iteriere über eine Liste und gebe jedes Element aus"
   ]
  },
  {
   "cell_type": "code",
   "execution_count": null,
   "id": "0f29e822",
   "metadata": {},
   "outputs": [],
   "source": [
    "a = ['one', 3, 4, 0.5, 'water', (5, 'text')]"
   ]
  },
  {
   "cell_type": "code",
   "execution_count": null,
   "id": "7a39ce4e",
   "metadata": {},
   "outputs": [],
   "source": [
    "for x in a:\n",
    "    print(x)"
   ]
  },
  {
   "cell_type": "code",
   "execution_count": null,
   "id": "5e6e3f46",
   "metadata": {},
   "outputs": [],
   "source": [
    "# Iteriere über eine Liste und gebe nur Elemente aus die type String sind"
   ]
  },
  {
   "cell_type": "code",
   "execution_count": null,
   "id": "46ea9caf",
   "metadata": {
    "scrolled": true
   },
   "outputs": [],
   "source": [
    "for element in a:\n",
    "    if type(element) == str:\n",
    "        print(element)"
   ]
  },
  {
   "cell_type": "code",
   "execution_count": null,
   "id": "32f3a7fb",
   "metadata": {},
   "outputs": [],
   "source": [
    "# Iteriere über ein Tupel und gebe jedes Element aus"
   ]
  },
  {
   "cell_type": "code",
   "execution_count": null,
   "id": "211082ea",
   "metadata": {},
   "outputs": [],
   "source": [
    "b = (5, 3.4, 'hello', 65, (4, 5))"
   ]
  },
  {
   "cell_type": "code",
   "execution_count": null,
   "id": "53ad9d8e",
   "metadata": {},
   "outputs": [],
   "source": [
    "for x in b:\n",
    "    print(x)"
   ]
  },
  {
   "cell_type": "code",
   "execution_count": null,
   "id": "25cd7126",
   "metadata": {},
   "outputs": [],
   "source": [
    "# Iteriere über ein Tupel und gebe jedes Element sowie dessen Index aus"
   ]
  },
  {
   "cell_type": "code",
   "execution_count": null,
   "id": "bb9ad931",
   "metadata": {},
   "outputs": [],
   "source": [
    "for element in b:\n",
    "    print(element, \"is no.\",b.index(element))"
   ]
  },
  {
   "cell_type": "code",
   "execution_count": null,
   "id": "bb432e01",
   "metadata": {},
   "outputs": [],
   "source": [
    "for i, element in enumerate(b):\n",
    "    print(i, element)"
   ]
  },
  {
   "cell_type": "code",
   "execution_count": null,
   "id": "d0bafde3",
   "metadata": {},
   "outputs": [],
   "source": [
    "# Iteriere über die keys in einem dictionary"
   ]
  },
  {
   "cell_type": "code",
   "execution_count": null,
   "id": "17768180",
   "metadata": {},
   "outputs": [],
   "source": [
    "c = {\n",
    "    \"model\": \"NX-6\",\n",
    "    \"incept date\": \"2015\",\n",
    "    \"serial number\": \"NX6-409230RB\",\n",
    "    \"name\": \"roy\"\n",
    "}"
   ]
  },
  {
   "cell_type": "code",
   "execution_count": null,
   "id": "5cd7e912",
   "metadata": {},
   "outputs": [],
   "source": [
    "for key in c:\n",
    "    print(key)    "
   ]
  },
  {
   "cell_type": "code",
   "execution_count": null,
   "id": "acbb561f",
   "metadata": {},
   "outputs": [],
   "source": [
    "# Iteriere über eine Liste und gebe ein anderes Feedback für jeden Datentyp\n",
    "# (mindestens drei unterschiedliche Datentypen)"
   ]
  },
  {
   "cell_type": "code",
   "execution_count": null,
   "id": "8387ca3d",
   "metadata": {},
   "outputs": [],
   "source": [
    "print(a)\n",
    "a.append([\"i\"])\n",
    "print(a)"
   ]
  },
  {
   "cell_type": "code",
   "execution_count": null,
   "id": "0e548555",
   "metadata": {},
   "outputs": [],
   "source": [
    "for element in a:\n",
    "    if type(element) == str:\n",
    "        print(\"This is a string\");\n",
    "    elif type(element) == int:\n",
    "        print(\"This is an integer\");\n",
    "    elif type(element) == float:\n",
    "        print(\"This is a float\");\n",
    "    elif type(element) == tuple:\n",
    "        print(\"This is a tuple\")\n",
    "    else:\n",
    "        print(\"Type not found\")"
   ]
  },
  {
   "cell_type": "code",
   "execution_count": null,
   "id": "7ecdab21",
   "metadata": {},
   "outputs": [],
   "source": [
    "# Iteriere über einen String"
   ]
  },
  {
   "cell_type": "code",
   "execution_count": null,
   "id": "ab68f0bd",
   "metadata": {},
   "outputs": [],
   "source": [
    "d = 'this is a string'"
   ]
  },
  {
   "cell_type": "code",
   "execution_count": null,
   "id": "2d7e118f",
   "metadata": {},
   "outputs": [],
   "source": [
    "for element in d:\n",
    "    print(element)"
   ]
  },
  {
   "cell_type": "code",
   "execution_count": null,
   "id": "993cfe47",
   "metadata": {},
   "outputs": [],
   "source": [
    "# Iteriere über zwei Listen gleichzeitig"
   ]
  },
  {
   "cell_type": "code",
   "execution_count": null,
   "id": "dfecb2f2",
   "metadata": {},
   "outputs": [],
   "source": [
    "e = list(b)"
   ]
  },
  {
   "cell_type": "code",
   "execution_count": null,
   "id": "8ed5d6e2",
   "metadata": {},
   "outputs": [],
   "source": [
    "for x, y in zip(a, e):\n",
    "    print(x, \"and\", y)"
   ]
  },
  {
   "cell_type": "markdown",
   "id": "29e76f79",
   "metadata": {},
   "source": [
    "# Chapter 3"
   ]
  },
  {
   "cell_type": "code",
   "execution_count": null,
   "id": "47bb5da8",
   "metadata": {},
   "outputs": [],
   "source": [
    "# funktionen\n",
    "def add_items(a, b):\n",
    "    c = a + b\n",
    "    return c"
   ]
  },
  {
   "cell_type": "code",
   "execution_count": null,
   "id": "d036b8fe",
   "metadata": {},
   "outputs": [],
   "source": [
    "add_items(1, 2)"
   ]
  },
  {
   "cell_type": "code",
   "execution_count": null,
   "id": "99e225e0",
   "metadata": {},
   "outputs": [],
   "source": [
    "def add_items_short(a, b):\n",
    "    e = 5\n",
    "    b = b + e\n",
    "    return a + b"
   ]
  },
  {
   "cell_type": "code",
   "execution_count": null,
   "id": "99fba2a4",
   "metadata": {},
   "outputs": [],
   "source": [
    "add_items_short(1, 2)"
   ]
  },
  {
   "cell_type": "code",
   "execution_count": null,
   "id": "c87063c4",
   "metadata": {},
   "outputs": [],
   "source": [
    "def greeting():\n",
    "    print(\"Hi\")"
   ]
  },
  {
   "cell_type": "code",
   "execution_count": null,
   "id": "38f20de5",
   "metadata": {},
   "outputs": [],
   "source": [
    "greeting()"
   ]
  },
  {
   "cell_type": "code",
   "execution_count": null,
   "id": "eddbef90",
   "metadata": {},
   "outputs": [],
   "source": [
    "# schreibe eine Funktion die eine Liste als input argument nimmt \n",
    "# und alle elemente einzeln zurückgibt"
   ]
  },
  {
   "cell_type": "code",
   "execution_count": null,
   "id": "1604eaed",
   "metadata": {},
   "outputs": [],
   "source": [
    "def print_list_elements(a):\n",
    "    for element in a:\n",
    "        print(element)"
   ]
  },
  {
   "cell_type": "code",
   "execution_count": null,
   "id": "91e9af2c",
   "metadata": {},
   "outputs": [],
   "source": [
    "print_list_elements(a)"
   ]
  },
  {
   "cell_type": "code",
   "execution_count": null,
   "id": "c67534fd",
   "metadata": {},
   "outputs": [],
   "source": [
    "print_list_elements(e)"
   ]
  },
  {
   "cell_type": "code",
   "execution_count": null,
   "id": "38f7054b",
   "metadata": {},
   "outputs": [],
   "source": [
    "# Schreibe eine Funktion die ein integer mit 3 multipliziert - bis 10*3"
   ]
  },
  {
   "cell_type": "code",
   "execution_count": null,
   "id": "a814346c",
   "metadata": {},
   "outputs": [],
   "source": [
    "def multiply_by_three (x):\n",
    "    for n in range(1,11):\n",
    "        print (x *3 *n)"
   ]
  },
  {
   "cell_type": "code",
   "execution_count": null,
   "id": "388a7dcc",
   "metadata": {},
   "outputs": [],
   "source": [
    "multiply_by_three(4)"
   ]
  },
  {
   "cell_type": "code",
   "execution_count": null,
   "id": "a1089ff2",
   "metadata": {},
   "outputs": [],
   "source": [
    "def multiply_by_x (y,x):\n",
    "    for n in range(1,11):\n",
    "        print (x *y *n)"
   ]
  },
  {
   "cell_type": "code",
   "execution_count": null,
   "id": "abe32799",
   "metadata": {},
   "outputs": [],
   "source": [
    "multiply_by_x (8, 4)"
   ]
  },
  {
   "cell_type": "code",
   "execution_count": null,
   "id": "2c460223",
   "metadata": {},
   "outputs": [],
   "source": [
    "# Schreibe eine Funktion die ein integer mit 3 multipliziert - bis 10*3\n",
    "# und das Ergebnis als Liste zurück gibt"
   ]
  },
  {
   "cell_type": "code",
   "execution_count": null,
   "id": "64e13792",
   "metadata": {},
   "outputs": [],
   "source": [
    "def multiply_by_three_list (x):\n",
    "   return [x * 3 * n for n in range(1,11)]"
   ]
  },
  {
   "cell_type": "code",
   "execution_count": null,
   "id": "bf00c2f4",
   "metadata": {},
   "outputs": [],
   "source": [
    "new_list = multiply_by_three_list (5)\n",
    "print(new_list)"
   ]
  },
  {
   "cell_type": "code",
   "execution_count": null,
   "id": "2b0fd040",
   "metadata": {},
   "outputs": [],
   "source": [
    "# tests/fragen"
   ]
  },
  {
   "cell_type": "code",
   "execution_count": null,
   "id": "f2d2bdf6",
   "metadata": {},
   "outputs": [],
   "source": [
    "def multiply_by_three_test (x):\n",
    "   print(x * 3 * n for n in range(1,11))"
   ]
  },
  {
   "cell_type": "code",
   "execution_count": null,
   "id": "af22d209",
   "metadata": {},
   "outputs": [],
   "source": [
    "multiply_by_three_test (2)"
   ]
  },
  {
   "cell_type": "code",
   "execution_count": null,
   "id": "3823022f",
   "metadata": {},
   "outputs": [],
   "source": [
    "def multiply_by_three_list_test (x):\n",
    "   print([x * n for n in range(3,31,3)])"
   ]
  },
  {
   "cell_type": "code",
   "execution_count": null,
   "id": "43e8b32c",
   "metadata": {},
   "outputs": [],
   "source": [
    "multiply_by_three_list_test (5)"
   ]
  },
  {
   "cell_type": "markdown",
   "id": "f506f460",
   "metadata": {},
   "source": [
    "# Chapter 4"
   ]
  },
  {
   "cell_type": "code",
   "execution_count": null,
   "id": "9ab02652",
   "metadata": {},
   "outputs": [],
   "source": [
    "# Öffne eine Datei mit Python und lese den Inhalt in eine Liste"
   ]
  },
  {
   "cell_type": "code",
   "execution_count": null,
   "id": "686772e4",
   "metadata": {},
   "outputs": [],
   "source": [
    "filename = \"text.txt\""
   ]
  },
  {
   "cell_type": "code",
   "execution_count": null,
   "id": "345f00d2",
   "metadata": {},
   "outputs": [],
   "source": [
    "with open(filename, \"r\") as f:\n",
    "   list1 = f.readlines()"
   ]
  },
  {
   "cell_type": "code",
   "execution_count": null,
   "id": "760f16d5",
   "metadata": {},
   "outputs": [],
   "source": [
    "print(list1)"
   ]
  },
  {
   "cell_type": "code",
   "execution_count": null,
   "id": "9d4826f1",
   "metadata": {},
   "outputs": [],
   "source": [
    "print(list1[1])"
   ]
  },
  {
   "cell_type": "code",
   "execution_count": null,
   "id": "15c50c0c",
   "metadata": {},
   "outputs": [],
   "source": [
    "# Schreibe eine Liste in eine Datei"
   ]
  },
  {
   "cell_type": "code",
   "execution_count": null,
   "id": "5366b303",
   "metadata": {},
   "outputs": [],
   "source": [
    "c_test = [\"this\", \"is\", \"a\", \"text\", \"file\"]"
   ]
  },
  {
   "cell_type": "code",
   "execution_count": null,
   "id": "4024fe7c",
   "metadata": {},
   "outputs": [],
   "source": [
    "with open(\"text2.txt\", \"w\") as f:\n",
    "    f.write(str(c_test))"
   ]
  },
  {
   "cell_type": "code",
   "execution_count": null,
   "id": "f6549446",
   "metadata": {},
   "outputs": [],
   "source": [
    "# plotte eine cos-Funktion"
   ]
  },
  {
   "cell_type": "code",
   "execution_count": null,
   "id": "3382076c",
   "metadata": {},
   "outputs": [],
   "source": [
    "print(np.cos(10))"
   ]
  },
  {
   "cell_type": "code",
   "execution_count": null,
   "id": "bd008652",
   "metadata": {
    "scrolled": true
   },
   "outputs": [],
   "source": [
    "x = np.arange(0, 10, 0.1)\n",
    "y = np.cos(x)"
   ]
  },
  {
   "cell_type": "code",
   "execution_count": null,
   "id": "61cb1d10",
   "metadata": {},
   "outputs": [],
   "source": [
    "plt.plot(x,y)\n",
    "plt.xlim([0, 10])\n",
    "plt.show()"
   ]
  },
  {
   "cell_type": "code",
   "execution_count": null,
   "id": "693b6525",
   "metadata": {},
   "outputs": [],
   "source": [
    "# Mache einen barplot von einer Liste"
   ]
  },
  {
   "cell_type": "code",
   "execution_count": null,
   "id": "37433b2b",
   "metadata": {},
   "outputs": [],
   "source": [
    "c_test = [2, 5, 9, 1, 10, 7, 8, 5, 3.6, 7, 5.1]"
   ]
  },
  {
   "cell_type": "code",
   "execution_count": null,
   "id": "7365551e",
   "metadata": {},
   "outputs": [],
   "source": [
    "plt.bar(range(len(c_test)), c_test)\n",
    "plt.show()"
   ]
  },
  {
   "cell_type": "code",
   "execution_count": null,
   "id": "90022149",
   "metadata": {},
   "outputs": [],
   "source": [
    "# mache einen scatterplot einer liste"
   ]
  },
  {
   "cell_type": "code",
   "execution_count": null,
   "id": "36c5a141",
   "metadata": {},
   "outputs": [],
   "source": [
    "plt.scatter(range(len(c_test)), c_test)\n",
    "plt.show()"
   ]
  },
  {
   "cell_type": "markdown",
   "id": "2127d664",
   "metadata": {},
   "source": [
    "# Chapter 5"
   ]
  },
  {
   "cell_type": "code",
   "execution_count": null,
   "id": "32d97b7a",
   "metadata": {},
   "outputs": [],
   "source": [
    "# finde datensatz auf kaggle und lese ein als csv"
   ]
  },
  {
   "cell_type": "code",
   "execution_count": null,
   "id": "f68b4c49",
   "metadata": {},
   "outputs": [],
   "source": [
    "## datensatz aus: https://www.slavevoyages.org/voyage/database#results (1830; gefilterte columns)"
   ]
  },
  {
   "cell_type": "code",
   "execution_count": null,
   "id": "3349d50b",
   "metadata": {},
   "outputs": [],
   "source": [
    "slaves = pd.read_csv(\"slaves_1835-1839.csv\", index_col=1)"
   ]
  },
  {
   "cell_type": "code",
   "execution_count": null,
   "id": "ce0e334c",
   "metadata": {},
   "outputs": [],
   "source": [
    "slaves"
   ]
  },
  {
   "cell_type": "code",
   "execution_count": null,
   "id": "a4b5709b",
   "metadata": {},
   "outputs": [],
   "source": [
    "slaves.dtypes"
   ]
  },
  {
   "cell_type": "code",
   "execution_count": null,
   "id": "87b19b34",
   "metadata": {},
   "outputs": [],
   "source": [
    "slaves.info()"
   ]
  },
  {
   "cell_type": "code",
   "execution_count": null,
   "id": "4bc95308",
   "metadata": {},
   "outputs": [],
   "source": [
    "# Stelle wichtige Kolumnen graphisch dar (pyplot)"
   ]
  },
  {
   "cell_type": "code",
   "execution_count": null,
   "id": "cf2f9abf",
   "metadata": {},
   "outputs": [],
   "source": [
    "disembarked = slaves[\"Total disembarked\"]\n",
    "plt.scatter(range(len(disembarked)), disembarked)\n",
    "plt.show()"
   ]
  },
  {
   "cell_type": "code",
   "execution_count": null,
   "id": "082c32af",
   "metadata": {},
   "outputs": [],
   "source": [
    "embarked = slaves[\"Captive deaths during crossing\"]\n",
    "plt.scatter(range(len(embarked)), embarked)\n",
    "plt.show()"
   ]
  },
  {
   "cell_type": "code",
   "execution_count": null,
   "id": "87882c78",
   "metadata": {},
   "outputs": [],
   "source": [
    "duration = slaves[\"Duration of captives' crossing (in days)\"]\n",
    "plt.scatter(range(len(duration)), duration)\n",
    "plt.show()"
   ]
  },
  {
   "cell_type": "code",
   "execution_count": null,
   "id": "c65ad857",
   "metadata": {},
   "outputs": [],
   "source": [
    "# Stelle wichtige Korrelationen numerisch dar (corr)"
   ]
  },
  {
   "cell_type": "code",
   "execution_count": null,
   "id": "867b36f0",
   "metadata": {},
   "outputs": [],
   "source": [
    "slaves_num = slaves.loc[:, ~slaves.columns.isin(['Voyage ID', 'Vessel name'])]\n",
    "print(slaves_num.corr(numeric_only = True))"
   ]
  },
  {
   "cell_type": "code",
   "execution_count": null,
   "id": "d5869591",
   "metadata": {},
   "outputs": [],
   "source": [
    "## allerdings: keine wichtigen korrelationen..."
   ]
  },
  {
   "cell_type": "code",
   "execution_count": null,
   "id": "b0aeb3a0",
   "metadata": {},
   "outputs": [],
   "source": [
    "# Stelle Korrelationen graphisch dar (seaborn)"
   ]
  },
  {
   "cell_type": "code",
   "execution_count": null,
   "id": "0c09aae7",
   "metadata": {},
   "outputs": [],
   "source": [
    "sns.set_theme()"
   ]
  },
  {
   "cell_type": "code",
   "execution_count": null,
   "id": "0193bf91",
   "metadata": {},
   "outputs": [],
   "source": [
    "sns.relplot(\n",
    "    data=slaves,\n",
    "    x=\"Duration of captives' crossing (in days)\", y=\"Captive deaths during crossing\"\n",
    ")"
   ]
  },
  {
   "cell_type": "code",
   "execution_count": null,
   "id": "7d908bf4",
   "metadata": {},
   "outputs": [],
   "source": [
    "p = sns.PairGrid(slaves)\n",
    "p.map(sns.scatterplot)"
   ]
  },
  {
   "cell_type": "code",
   "execution_count": null,
   "id": "4616985d",
   "metadata": {},
   "outputs": [],
   "source": [
    "# Gucke dir mean, variance etc an (statistische eigenschaften) für gewählte Kolumnen"
   ]
  },
  {
   "cell_type": "code",
   "execution_count": null,
   "id": "c23b7a5d",
   "metadata": {},
   "outputs": [],
   "source": [
    "## mean"
   ]
  },
  {
   "cell_type": "code",
   "execution_count": null,
   "id": "1548cc62",
   "metadata": {},
   "outputs": [],
   "source": [
    "print(slaves.mean(numeric_only = True))"
   ]
  },
  {
   "cell_type": "code",
   "execution_count": null,
   "id": "7a991253",
   "metadata": {},
   "outputs": [],
   "source": [
    "## median"
   ]
  },
  {
   "cell_type": "code",
   "execution_count": null,
   "id": "c2942cef",
   "metadata": {},
   "outputs": [],
   "source": [
    "print(slaves.median(numeric_only = True))"
   ]
  },
  {
   "cell_type": "code",
   "execution_count": null,
   "id": "e05774f7",
   "metadata": {},
   "outputs": [],
   "source": [
    "## varianz (-> streuung)"
   ]
  },
  {
   "cell_type": "code",
   "execution_count": null,
   "id": "9b82fe86",
   "metadata": {},
   "outputs": [],
   "source": [
    "print(slaves[\"Total embarked\"].var())"
   ]
  },
  {
   "cell_type": "code",
   "execution_count": null,
   "id": "e6d23d26",
   "metadata": {},
   "outputs": [],
   "source": [
    "print(slaves[\"Total disembarked\"].var())"
   ]
  },
  {
   "cell_type": "code",
   "execution_count": null,
   "id": "7bbb8975",
   "metadata": {},
   "outputs": [],
   "source": [
    "print(slaves[\"Captive deaths during crossing\"].var())"
   ]
  },
  {
   "cell_type": "code",
   "execution_count": null,
   "id": "efdf1558",
   "metadata": {},
   "outputs": [],
   "source": [
    "print(slaves.describe())"
   ]
  },
  {
   "cell_type": "markdown",
   "id": "0e5d9df7",
   "metadata": {},
   "source": [
    "# Chapter 6: Spacy"
   ]
  },
  {
   "cell_type": "code",
   "execution_count": null,
   "id": "5499e8f7",
   "metadata": {},
   "outputs": [],
   "source": [
    "nlp = spacy.load(\"en_core_web_lg\")"
   ]
  },
  {
   "cell_type": "code",
   "execution_count": null,
   "id": "e27d2d7e",
   "metadata": {},
   "outputs": [],
   "source": [
    "doc = nlp(\"Something something something. Another sentence.\")"
   ]
  },
  {
   "cell_type": "code",
   "execution_count": null,
   "id": "fcdb64e5",
   "metadata": {},
   "outputs": [],
   "source": [
    "type(doc)"
   ]
  },
  {
   "cell_type": "code",
   "execution_count": null,
   "id": "7029582c",
   "metadata": {},
   "outputs": [],
   "source": [
    "doc.text"
   ]
  },
  {
   "cell_type": "code",
   "execution_count": null,
   "id": "910011d0",
   "metadata": {},
   "outputs": [],
   "source": [
    "doc.sents"
   ]
  },
  {
   "cell_type": "code",
   "execution_count": null,
   "id": "a88b92c0",
   "metadata": {},
   "outputs": [],
   "source": [
    "for sentence in doc.sents:\n",
    "    print(sentence)\n",
    "    print(\"##\")"
   ]
  },
  {
   "cell_type": "code",
   "execution_count": null,
   "id": "08cbb50a",
   "metadata": {},
   "outputs": [],
   "source": [
    "for token in doc:\n",
    "    print(token)\n",
    "    print(type(token.text))\n",
    "    print(token.text)"
   ]
  },
  {
   "cell_type": "code",
   "execution_count": null,
   "id": "f2c5989b",
   "metadata": {},
   "outputs": [],
   "source": [
    "for sentence in doc.sents:\n",
    "    print(\"<s>\")\n",
    "    for token in sentence:\n",
    "        print(token.text, token.pos_)\n",
    "    print(\"</s>\")"
   ]
  },
  {
   "cell_type": "code",
   "execution_count": null,
   "id": "d2be6b29",
   "metadata": {},
   "outputs": [],
   "source": [
    "nlp.pipe_names"
   ]
  },
  {
   "cell_type": "code",
   "execution_count": null,
   "id": "bf9c8ad3",
   "metadata": {},
   "outputs": [],
   "source": [
    "doc1 = nlp(\"Long before the Internet, attempts to connect the eastern and western hemispheres through a wired telegraph network reshaped the global landscape. Telegraphy grew out of scientific advances in the first three decades of the nineteenth century—especially the discovery of electromagnetism and the development of the electrical battery. By 1840, several researchers had begun to harness these discoveries for long-distance rapid communication. At the time, few realized that these discoveries would have profound consequences that would reshape social, economic, and political relationships. In the United States, Samuel F.B. Morse successfully lobbied Congress to allocate $30,000 for a demonstration telegraph line between Washington and Baltimore. This line began operation in May 1844. Morse, like nearly all Americans of his day, thought that the Constitution granted the U.S. Post Office a monopoly on the mail, and, by extension, telegraphic communication. Congress, however, refused to buy his patent, and the telegraph’s future development fell to the private sector. However, in every other country, the telegraph remained an arm of national government (Great Britain would nationalize its inland telegraphs in 1870 as well). Thus, the American communications industry followed a very different development path than in other advanced countries. During the 1850s, British and American entrepreneurs and engineers sought to link the continents telegraphically. Two solutions existed—a long overland line to California and through Alaska to Asiatic Russia (via a short cable in the Bering Sea), or a submarine cable in the Atlantic Ocean. The former route fit America’s commercial and imperial ambitions well. Backers of the Pacific overland route thought that it would bring Russia, China, and Japan firmly into the American commercial orbit. The latter project—which would see failed cable-laying attempts in 1857, 1858 and 1865—fit into Britain’s imperial ambitions. Britain, after all, came to depend on an extensive network of submarine telegraph cables to administer its global empire. Both projects were developed simultaneously. In the United States, Western Union built a line to the Pacific Coast in 1861 and began extending it northward into Canada and Alaska (then yet a Russian possession). At the same time, the Atlantic cable backers marshaled their resources and succeeded in laying two working cables between Ireland and Newfoundland in 1866. Afterward, Western Union halted construction of its Russian overland extension. The success of the Atlantic cable and abandonment of the overland Pacific route had several consequences. Commercially, the Atlantic cable placed American and European markets (in securities, cotton, and other commodities) in close coordination. Although American imperial and commercial ambitions in the Pacific did not disappear—consider the conquest of Hawaii and the Philippines in 1898—the American and European economies became more closely intertwined. Strategically, the abandonment of the American effort to span the continents left Great Britain as the dominant player in global telecommunications. The U.S. Navy, for example, depended on British telegraph cables to communicate with its ships stationed in Asia during the Spanish-American War. And British control over global communications was an important factor in its defeat of Germany in World War I. Diplomatically, the Atlantic cable tied the United States and Great Britain closer together, strengthening their so-called “special relationship.” Consider the counterfactual—and very plausible—case of the failure of the Atlantic cable expedition of 1866 and the completion of Western Union’s overland route through Russian America and Siberia. This might have strengthened Russian-American relations, given Russia a larger presence in its far eastern regions, and led to a very different history of the Pacific rim. At least three conclusions emerge from this history. First, the fostering of pure scientific research—not merely product-oriented R&D—should be an important element of national policy. The early electrical telegraph arose out of basic scientific discoveries in electromagnetism and electrochemistry. The construction and operation of long submarine cables, in fact, relied on highly complex developments in theoretical physics, as well as in electrical and marine engineering. Pure scientific research remains the only way to generate new and unanticipated technological applications. Second, national security and foreign policy objectives are often firmly intertwined with commercial interests. The American project of connecting the continents via overland telegraph was also an attempt to open and then dominate the untapped markets of China and Japan. In other words, strategy followed commerce. Finally, domestic political context is important in shaping and limiting strategic objectives. During the nineteenth and early twentieth centuries, the United States was the only developed nation with a privately-owned telecommunications system. This left the United States at a disadvantage during World War I, when the submarine cable network and early wireless were key war-fighting technologies. And it left the United States poorly prepared to wage a propaganda war of words with the Axis via shortwave broadcasting during World War II. All of this suggests that emerging communications technologies—whether wired telegraphy or wireless of the nineteenth and twentieth centuries, or today’s global network of mobile phones and social media—will almost certainly have broader political and strategic effects. While it is impossible to predict these effects with precision, the forecasting of multiple possible scenarios will remain an effective tool of strategic decision-making.\")"
   ]
  },
  {
   "cell_type": "code",
   "execution_count": null,
   "id": "888840b1",
   "metadata": {},
   "outputs": [],
   "source": [
    "doc2 = nlp(\"Long before the Internet, attempts to connect the eastern and western hemispheres through a wired telegraph network reshaped the global landscape. Telegraphy grew out of scientific advances in the first three decades of the nineteenth century—especially the discovery of electromagnetism and the development of the electrical battery.\")"
   ]
  },
  {
   "cell_type": "code",
   "execution_count": null,
   "id": "1f2a3371",
   "metadata": {},
   "outputs": [],
   "source": [
    "for token in doc2:\n",
    "    print(token.i, token.text)"
   ]
  },
  {
   "cell_type": "code",
   "execution_count": null,
   "id": "dfd91c80",
   "metadata": {},
   "outputs": [],
   "source": [
    "doc2.sents"
   ]
  },
  {
   "cell_type": "code",
   "execution_count": null,
   "id": "59042c25",
   "metadata": {},
   "outputs": [],
   "source": [
    "for sentence in doc2.sents:\n",
    "    print(\"<s>\")\n",
    "    for token in sentence:\n",
    "        print(token.text, token.tag_, token.dep_)\n",
    "    print(\"</s>\")"
   ]
  },
  {
   "cell_type": "code",
   "execution_count": null,
   "id": "679bb615",
   "metadata": {
    "scrolled": false
   },
   "outputs": [],
   "source": [
    "displacy.render(doc2, style=\"dep\")"
   ]
  },
  {
   "cell_type": "code",
   "execution_count": null,
   "id": "6ddfe713",
   "metadata": {},
   "outputs": [],
   "source": [
    "for ent in doc1.ents:\n",
    "    print(ent.text, ent.start_char, ent.end_char, ent.label)\n",
    "    displacy.render(doc1, style=\"ent\")"
   ]
  },
  {
   "cell_type": "code",
   "execution_count": null,
   "id": "ba54ff4a",
   "metadata": {},
   "outputs": [],
   "source": [
    "print(doc, \"<->\", doc2, doc.similarity(doc2))"
   ]
  },
  {
   "cell_type": "markdown",
   "id": "1e728727",
   "metadata": {},
   "source": [
    "# Chapter 7"
   ]
  },
  {
   "cell_type": "code",
   "execution_count": null,
   "id": "14a05321",
   "metadata": {},
   "outputs": [],
   "source": [
    "# image classification"
   ]
  },
  {
   "cell_type": "code",
   "execution_count": 13,
   "id": "b217a691",
   "metadata": {},
   "outputs": [
    {
     "name": "stderr",
     "output_type": "stream",
     "text": [
      "/home/kilianoed/miniconda3/envs/python-test/lib/python3.9/site-packages/transformers/models/convnext/feature_extraction_convnext.py:28: FutureWarning: The class ConvNextFeatureExtractor is deprecated and will be removed in version 5 of Transformers. Please use ConvNextImageProcessor instead.\n",
      "  warnings.warn(\n"
     ]
    }
   ],
   "source": [
    "classifier = pipeline(\"image-classification\", model =\"Visual-Attention-Network/van-large\")"
   ]
  },
  {
   "cell_type": "code",
   "execution_count": 14,
   "id": "ef6da503",
   "metadata": {
    "scrolled": true
   },
   "outputs": [
    {
     "data": {
      "text/plain": [
       "[{'score': 0.5242367386817932,\n",
       "  'label': 'promontory, headland, head, foreland'},\n",
       " {'score': 0.11242906749248505, 'label': 'cliff, drop, drop-off'},\n",
       " {'score': 0.05939502269029617, 'label': 'megalith, megalithic structure'},\n",
       " {'score': 0.033371392637491226, 'label': 'hammerhead, hammerhead shark'},\n",
       " {'score': 0.02187434211373329,\n",
       "  'label': 'seashore, coast, seacoast, sea-coast'}]"
      ]
     },
     "execution_count": 14,
     "metadata": {},
     "output_type": "execute_result"
    }
   ],
   "source": [
    "classifier(\"https://3.bp.blogspot.com/-caR6sKagKzA/Te7hB9reUiI/AAAAAAAAGyo/m-H6wz5yNEQ/s1600/overstockart_2162_1288556702.gif.jpg\")"
   ]
  },
  {
   "cell_type": "code",
   "execution_count": 15,
   "id": "26041f1a",
   "metadata": {},
   "outputs": [
    {
     "data": {
      "text/plain": [
       "[{'score': 0.5637372732162476,\n",
       "  'label': 'worm fence, snake fence, snake-rail fence, Virginia fence'},\n",
       " {'score': 0.05528544262051582, 'label': 'lakeside, lakeshore'},\n",
       " {'score': 0.035035640001297, 'label': 'park bench'},\n",
       " {'score': 0.032420504838228226, 'label': 'maze, labyrinth'},\n",
       " {'score': 0.022883251309394836, 'label': 'greenhouse, nursery, glasshouse'}]"
      ]
     },
     "execution_count": 15,
     "metadata": {},
     "output_type": "execute_result"
    }
   ],
   "source": [
    "classifier(\"https://fabulousmasterpieces-blog.co.uk/wp-content/uploads/Monet_Replica.jpg\")"
   ]
  },
  {
   "cell_type": "code",
   "execution_count": 16,
   "id": "8b0a8d2b",
   "metadata": {},
   "outputs": [
    {
     "data": {
      "text/plain": [
       "[{'score': 0.27126336097717285, 'label': 'unicycle, monocycle'},\n",
       " {'score': 0.14031808078289032, 'label': 'parachute, chute'},\n",
       " {'score': 0.0459689237177372, 'label': 'flagpole, flagstaff'},\n",
       " {'score': 0.03839997574687004, 'label': 'picket fence, paling'},\n",
       " {'score': 0.031778234988451004, 'label': 'parking meter'}]"
      ]
     },
     "execution_count": 16,
     "metadata": {},
     "output_type": "execute_result"
    }
   ],
   "source": [
    "classifier(\"https://www.sueddeutsche.de/image/sz.1.5561463?v=1679581803&format=webp\")"
   ]
  },
  {
   "cell_type": "code",
   "execution_count": 17,
   "id": "7116a4d4",
   "metadata": {},
   "outputs": [
    {
     "data": {
      "text/plain": [
       "[{'score': 0.4268086850643158, 'label': 'goose'},\n",
       " {'score': 0.33641964197158813, 'label': 'drake'},\n",
       " {'score': 0.009772682562470436,\n",
       "  'label': 'American coot, marsh hen, mud hen, water hen, Fulica americana'},\n",
       " {'score': 0.008097712881863117,\n",
       "  'label': 'red-breasted merganser, Mergus serrator'},\n",
       " {'score': 0.004760740790516138, 'label': 'black swan, Cygnus atratus'}]"
      ]
     },
     "execution_count": 17,
     "metadata": {},
     "output_type": "execute_result"
    }
   ],
   "source": [
    "classifier(\"https://4.bp.blogspot.com/-M9aL6JMpFDM/UjCVN7E4EnI/AAAAAAAAYY4/zbuZTLmmy8c/s1600/Duckling+Wallpapers+%25283%2529.jpg\")"
   ]
  },
  {
   "cell_type": "code",
   "execution_count": 18,
   "id": "10cd451b",
   "metadata": {},
   "outputs": [],
   "source": [
    "# object detection"
   ]
  },
  {
   "cell_type": "code",
   "execution_count": 19,
   "id": "f5abdda6",
   "metadata": {},
   "outputs": [
    {
     "name": "stderr",
     "output_type": "stream",
     "text": [
      "/home/kilianoed/miniconda3/envs/python-test/lib/python3.9/site-packages/transformers/models/yolos/feature_extraction_yolos.py:28: FutureWarning: The class YolosFeatureExtractor is deprecated and will be removed in version 5 of Transformers. Please use YolosImageProcessor instead.\n",
      "  warnings.warn(\n",
      "/home/kilianoed/miniconda3/envs/python-test/lib/python3.9/site-packages/transformers/models/yolos/image_processing_yolos.py:704: FutureWarning: The `max_size` parameter is deprecated and will be removed in v4.26. Please specify in `size['longest_edge'] instead`.\n",
      "  warnings.warn(\n"
     ]
    }
   ],
   "source": [
    "detection = pipeline(\"object-detection\", model =\"hustvl/yolos-base\")"
   ]
  },
  {
   "cell_type": "code",
   "execution_count": 53,
   "id": "c2c2d4e5",
   "metadata": {
    "scrolled": true
   },
   "outputs": [
    {
     "name": "stdout",
     "output_type": "stream",
     "text": [
      "[{'box': {'xmax': 1506, 'xmin': 1421, 'ymax': 1627, 'ymin': 1455},\n",
      "  'label': 'traffic light',\n",
      "  'score': 0.9966005682945251},\n",
      " {'box': {'xmax': 1319, 'xmin': 1156, 'ymax': 2504, 'ymin': 2310},\n",
      "  'label': 'handbag',\n",
      "  'score': 0.9246420860290527},\n",
      " {'box': {'xmax': 980, 'xmin': 839, 'ymax': 2566, 'ymin': 2177},\n",
      "  'label': 'person',\n",
      "  'score': 0.9010961651802063},\n",
      " {'box': {'xmax': 2801, 'xmin': 2490, 'ymax': 3083, 'ymin': 2139},\n",
      "  'label': 'person',\n",
      "  'score': 0.9997236132621765},\n",
      " {'box': {'xmax': 5945, 'xmin': 5794, 'ymax': 1199, 'ymin': 903},\n",
      "  'label': 'traffic light',\n",
      "  'score': 0.9572719931602478},\n",
      " {'box': {'xmax': 1501, 'xmin': 1361, 'ymax': 2538, 'ymin': 2166},\n",
      "  'label': 'person',\n",
      "  'score': 0.9477003812789917},\n",
      " {'box': {'xmax': 4013, 'xmin': 3884, 'ymax': 2392, 'ymin': 2105},\n",
      "  'label': 'person',\n",
      "  'score': 0.905975341796875},\n",
      " {'box': {'xmax': 3858, 'xmin': 3731, 'ymax': 2409, 'ymin': 2062},\n",
      "  'label': 'person',\n",
      "  'score': 0.973605215549469},\n",
      " {'box': {'xmax': 5705, 'xmin': 5524, 'ymax': 2492, 'ymin': 2170},\n",
      "  'label': 'handbag',\n",
      "  'score': 0.9890050292015076},\n",
      " {'box': {'xmax': 5294, 'xmin': 5105, 'ymax': 2623, 'ymin': 2078},\n",
      "  'label': 'person',\n",
      "  'score': 0.99603670835495},\n",
      " {'box': {'xmax': 2397, 'xmin': 2183, 'ymax': 2329, 'ymin': 2205},\n",
      "  'label': 'car',\n",
      "  'score': 0.9836710691452026},\n",
      " {'box': {'xmax': 1342, 'xmin': 1066, 'ymax': 2877, 'ymin': 2187},\n",
      "  'label': 'person',\n",
      "  'score': 0.9992351531982422},\n",
      " {'box': {'xmax': 5675, 'xmin': 5404, 'ymax': 2811, 'ymin': 2071},\n",
      "  'label': 'person',\n",
      "  'score': 0.9977377653121948},\n",
      " {'box': {'xmax': 1302, 'xmin': 1193, 'ymax': 2049, 'ymin': 1964},\n",
      "  'label': 'traffic light',\n",
      "  'score': 0.9809245467185974},\n",
      " {'box': {'xmax': 1938, 'xmin': 1724, 'ymax': 2398, 'ymin': 2204},\n",
      "  'label': 'car',\n",
      "  'score': 0.9919531941413879},\n",
      " {'box': {'xmax': 4199, 'xmin': 4054, 'ymax': 2387, 'ymin': 2064},\n",
      "  'label': 'person',\n",
      "  'score': 0.9615316390991211},\n",
      " {'box': {'xmax': 2148, 'xmin': 1992, 'ymax': 2357, 'ymin': 2241},\n",
      "  'label': 'car',\n",
      "  'score': 0.9251036047935486},\n",
      " {'box': {'xmax': 2893, 'xmin': 2689, 'ymax': 1686, 'ymin': 1384},\n",
      "  'label': 'traffic light',\n",
      "  'score': 0.9924659729003906},\n",
      " {'box': {'xmax': 4272, 'xmin': 4173, 'ymax': 2385, 'ymin': 2086},\n",
      "  'label': 'person',\n",
      "  'score': 0.9594272375106812},\n",
      " {'box': {'xmax': 2660, 'xmin': 2340, 'ymax': 1715, 'ymin': 1430},\n",
      "  'label': 'traffic light',\n",
      "  'score': 0.9961036443710327},\n",
      " {'box': {'xmax': 5093, 'xmin': 4868, 'ymax': 2640, 'ymin': 2029},\n",
      "  'label': 'person',\n",
      "  'score': 0.996479332447052},\n",
      " {'box': {'xmax': 2256, 'xmin': 2066, 'ymax': 2351, 'ymin': 2233},\n",
      "  'label': 'car',\n",
      "  'score': 0.9338049292564392},\n",
      " {'box': {'xmax': 1515, 'xmin': 1334, 'ymax': 2966, 'ymin': 2578},\n",
      "  'label': 'fire hydrant',\n",
      "  'score': 0.9923275113105774},\n",
      " {'box': {'xmax': 1679, 'xmin': 1542, 'ymax': 2523, 'ymin': 2180},\n",
      "  'label': 'person',\n",
      "  'score': 0.9473374485969543},\n",
      " {'box': {'xmax': 1066, 'xmin': 920, 'ymax': 2561, 'ymin': 2175},\n",
      "  'label': 'person',\n",
      "  'score': 0.9591429829597473},\n",
      " {'box': {'xmax': 3448, 'xmin': 2174, 'ymax': 2546, 'ymin': 2160},\n",
      "  'label': 'car',\n",
      "  'score': 0.9997656941413879}]\n"
     ]
    }
   ],
   "source": [
    "img3 = \"https://raw.githubusercontent.com/kilianoed/pythontest/main/busy_street.jpg\"\n",
    "detection_img3 = detection(img3)\n",
    "pprint.pprint(detection_img3)"
   ]
  },
  {
   "cell_type": "code",
   "execution_count": 84,
   "id": "b807459d",
   "metadata": {},
   "outputs": [
    {
     "ename": "ValueError",
     "evalue": "4 columns passed, passed data had 1 columns",
     "output_type": "error",
     "traceback": [
      "\u001b[0;31m---------------------------------------------------------------------------\u001b[0m",
      "\u001b[0;31mAssertionError\u001b[0m                            Traceback (most recent call last)",
      "File \u001b[0;32m~/miniconda3/envs/python-test/lib/python3.9/site-packages/pandas/core/internals/construction.py:969\u001b[0m, in \u001b[0;36m_finalize_columns_and_data\u001b[0;34m(content, columns, dtype)\u001b[0m\n\u001b[1;32m    968\u001b[0m \u001b[38;5;28;01mtry\u001b[39;00m:\n\u001b[0;32m--> 969\u001b[0m     columns \u001b[38;5;241m=\u001b[39m \u001b[43m_validate_or_indexify_columns\u001b[49m\u001b[43m(\u001b[49m\u001b[43mcontents\u001b[49m\u001b[43m,\u001b[49m\u001b[43m \u001b[49m\u001b[43mcolumns\u001b[49m\u001b[43m)\u001b[49m\n\u001b[1;32m    970\u001b[0m \u001b[38;5;28;01mexcept\u001b[39;00m \u001b[38;5;167;01mAssertionError\u001b[39;00m \u001b[38;5;28;01mas\u001b[39;00m err:\n\u001b[1;32m    971\u001b[0m     \u001b[38;5;66;03m# GH#26429 do not raise user-facing AssertionError\u001b[39;00m\n",
      "File \u001b[0;32m~/miniconda3/envs/python-test/lib/python3.9/site-packages/pandas/core/internals/construction.py:1017\u001b[0m, in \u001b[0;36m_validate_or_indexify_columns\u001b[0;34m(content, columns)\u001b[0m\n\u001b[1;32m   1015\u001b[0m \u001b[38;5;28;01mif\u001b[39;00m \u001b[38;5;129;01mnot\u001b[39;00m is_mi_list \u001b[38;5;129;01mand\u001b[39;00m \u001b[38;5;28mlen\u001b[39m(columns) \u001b[38;5;241m!=\u001b[39m \u001b[38;5;28mlen\u001b[39m(content):  \u001b[38;5;66;03m# pragma: no cover\u001b[39;00m\n\u001b[1;32m   1016\u001b[0m     \u001b[38;5;66;03m# caller's responsibility to check for this...\u001b[39;00m\n\u001b[0;32m-> 1017\u001b[0m     \u001b[38;5;28;01mraise\u001b[39;00m \u001b[38;5;167;01mAssertionError\u001b[39;00m(\n\u001b[1;32m   1018\u001b[0m         \u001b[38;5;124mf\u001b[39m\u001b[38;5;124m\"\u001b[39m\u001b[38;5;132;01m{\u001b[39;00m\u001b[38;5;28mlen\u001b[39m(columns)\u001b[38;5;132;01m}\u001b[39;00m\u001b[38;5;124m columns passed, passed data had \u001b[39m\u001b[38;5;124m\"\u001b[39m\n\u001b[1;32m   1019\u001b[0m         \u001b[38;5;124mf\u001b[39m\u001b[38;5;124m\"\u001b[39m\u001b[38;5;132;01m{\u001b[39;00m\u001b[38;5;28mlen\u001b[39m(content)\u001b[38;5;132;01m}\u001b[39;00m\u001b[38;5;124m columns\u001b[39m\u001b[38;5;124m\"\u001b[39m\n\u001b[1;32m   1020\u001b[0m     )\n\u001b[1;32m   1021\u001b[0m \u001b[38;5;28;01melif\u001b[39;00m is_mi_list:\n\u001b[1;32m   1022\u001b[0m \n\u001b[1;32m   1023\u001b[0m     \u001b[38;5;66;03m# check if nested list column, length of each sub-list should be equal\u001b[39;00m\n",
      "\u001b[0;31mAssertionError\u001b[0m: 4 columns passed, passed data had 1 columns",
      "\nThe above exception was the direct cause of the following exception:\n",
      "\u001b[0;31mValueError\u001b[0m                                Traceback (most recent call last)",
      "Cell \u001b[0;32mIn[84], line 1\u001b[0m\n\u001b[0;32m----> 1\u001b[0m \u001b[43mpd\u001b[49m\u001b[38;5;241;43m.\u001b[39;49m\u001b[43mDataFrame\u001b[49m\u001b[38;5;241;43m.\u001b[39;49m\u001b[43mfrom_records\u001b[49m\u001b[43m(\u001b[49m\u001b[43mimg3\u001b[49m\u001b[43m,\u001b[49m\u001b[43mindex\u001b[49m\u001b[38;5;241;43m=\u001b[39;49m\u001b[38;5;28;43;01mNone\u001b[39;49;00m\u001b[43m,\u001b[49m\u001b[43m \u001b[49m\u001b[43mexclude\u001b[49m\u001b[38;5;241;43m=\u001b[39;49m\u001b[38;5;28;43;01mNone\u001b[39;49;00m\u001b[43m,\u001b[49m\u001b[43m \u001b[49m\u001b[43mcolumns\u001b[49m\u001b[38;5;241;43m=\u001b[39;49m\u001b[43m[\u001b[49m\u001b[38;5;124;43m'\u001b[39;49m\u001b[38;5;124;43mxmax\u001b[39;49m\u001b[38;5;124;43m'\u001b[39;49m\u001b[43m,\u001b[49m\u001b[43m \u001b[49m\u001b[38;5;124;43m'\u001b[39;49m\u001b[38;5;124;43mxmin\u001b[39;49m\u001b[38;5;124;43m'\u001b[39;49m\u001b[43m,\u001b[49m\u001b[43m \u001b[49m\u001b[38;5;124;43m'\u001b[39;49m\u001b[38;5;124;43mymax\u001b[39;49m\u001b[38;5;124;43m'\u001b[39;49m\u001b[43m,\u001b[49m\u001b[43m \u001b[49m\u001b[38;5;124;43m'\u001b[39;49m\u001b[38;5;124;43mymin\u001b[39;49m\u001b[38;5;124;43m'\u001b[39;49m\u001b[43m]\u001b[49m\u001b[43m,\u001b[49m\u001b[43m \u001b[49m\u001b[43mcoerce_float\u001b[49m\u001b[38;5;241;43m=\u001b[39;49m\u001b[38;5;28;43;01mFalse\u001b[39;49;00m\u001b[43m,\u001b[49m\u001b[43m \u001b[49m\u001b[43mnrows\u001b[49m\u001b[38;5;241;43m=\u001b[39;49m\u001b[38;5;28;43;01mNone\u001b[39;49;00m\u001b[43m)\u001b[49m\n",
      "File \u001b[0;32m~/miniconda3/envs/python-test/lib/python3.9/site-packages/pandas/core/frame.py:2338\u001b[0m, in \u001b[0;36mDataFrame.from_records\u001b[0;34m(cls, data, index, exclude, columns, coerce_float, nrows)\u001b[0m\n\u001b[1;32m   2336\u001b[0m     arr_columns \u001b[38;5;241m=\u001b[39m columns\n\u001b[1;32m   2337\u001b[0m \u001b[38;5;28;01melse\u001b[39;00m:\n\u001b[0;32m-> 2338\u001b[0m     arrays, arr_columns \u001b[38;5;241m=\u001b[39m \u001b[43mto_arrays\u001b[49m\u001b[43m(\u001b[49m\u001b[43mdata\u001b[49m\u001b[43m,\u001b[49m\u001b[43m \u001b[49m\u001b[43mcolumns\u001b[49m\u001b[43m)\u001b[49m\n\u001b[1;32m   2339\u001b[0m     \u001b[38;5;28;01mif\u001b[39;00m coerce_float:\n\u001b[1;32m   2340\u001b[0m         \u001b[38;5;28;01mfor\u001b[39;00m i, arr \u001b[38;5;129;01min\u001b[39;00m \u001b[38;5;28menumerate\u001b[39m(arrays):\n",
      "File \u001b[0;32m~/miniconda3/envs/python-test/lib/python3.9/site-packages/pandas/core/internals/construction.py:875\u001b[0m, in \u001b[0;36mto_arrays\u001b[0;34m(data, columns, dtype)\u001b[0m\n\u001b[1;32m    872\u001b[0m     data \u001b[38;5;241m=\u001b[39m [\u001b[38;5;28mtuple\u001b[39m(x) \u001b[38;5;28;01mfor\u001b[39;00m x \u001b[38;5;129;01min\u001b[39;00m data]\n\u001b[1;32m    873\u001b[0m     arr \u001b[38;5;241m=\u001b[39m _list_to_arrays(data)\n\u001b[0;32m--> 875\u001b[0m content, columns \u001b[38;5;241m=\u001b[39m \u001b[43m_finalize_columns_and_data\u001b[49m\u001b[43m(\u001b[49m\u001b[43marr\u001b[49m\u001b[43m,\u001b[49m\u001b[43m \u001b[49m\u001b[43mcolumns\u001b[49m\u001b[43m,\u001b[49m\u001b[43m \u001b[49m\u001b[43mdtype\u001b[49m\u001b[43m)\u001b[49m\n\u001b[1;32m    876\u001b[0m \u001b[38;5;28;01mreturn\u001b[39;00m content, columns\n",
      "File \u001b[0;32m~/miniconda3/envs/python-test/lib/python3.9/site-packages/pandas/core/internals/construction.py:972\u001b[0m, in \u001b[0;36m_finalize_columns_and_data\u001b[0;34m(content, columns, dtype)\u001b[0m\n\u001b[1;32m    969\u001b[0m     columns \u001b[38;5;241m=\u001b[39m _validate_or_indexify_columns(contents, columns)\n\u001b[1;32m    970\u001b[0m \u001b[38;5;28;01mexcept\u001b[39;00m \u001b[38;5;167;01mAssertionError\u001b[39;00m \u001b[38;5;28;01mas\u001b[39;00m err:\n\u001b[1;32m    971\u001b[0m     \u001b[38;5;66;03m# GH#26429 do not raise user-facing AssertionError\u001b[39;00m\n\u001b[0;32m--> 972\u001b[0m     \u001b[38;5;28;01mraise\u001b[39;00m \u001b[38;5;167;01mValueError\u001b[39;00m(err) \u001b[38;5;28;01mfrom\u001b[39;00m \u001b[38;5;21;01merr\u001b[39;00m\n\u001b[1;32m    974\u001b[0m \u001b[38;5;28;01mif\u001b[39;00m \u001b[38;5;28mlen\u001b[39m(contents) \u001b[38;5;129;01mand\u001b[39;00m contents[\u001b[38;5;241m0\u001b[39m]\u001b[38;5;241m.\u001b[39mdtype \u001b[38;5;241m==\u001b[39m np\u001b[38;5;241m.\u001b[39mobject_:\n\u001b[1;32m    975\u001b[0m     contents \u001b[38;5;241m=\u001b[39m _convert_object_array(contents, dtype\u001b[38;5;241m=\u001b[39mdtype)\n",
      "\u001b[0;31mValueError\u001b[0m: 4 columns passed, passed data had 1 columns"
     ]
    }
   ],
   "source": [
    "pd.DataFrame.from_records(img3,index=None, exclude=None, columns=['xmax', 'xmin', 'ymax', 'ymin'], coerce_float=False, nrows=None)"
   ]
  },
  {
   "cell_type": "code",
   "execution_count": null,
   "id": "c3744abd",
   "metadata": {},
   "outputs": [],
   "source": []
  }
 ],
 "metadata": {
  "kernelspec": {
   "display_name": "Python 3 (ipykernel)",
   "language": "python",
   "name": "python3"
  },
  "language_info": {
   "codemirror_mode": {
    "name": "ipython",
    "version": 3
   },
   "file_extension": ".py",
   "mimetype": "text/x-python",
   "name": "python",
   "nbconvert_exporter": "python",
   "pygments_lexer": "ipython3",
   "version": "3.9.0"
  }
 },
 "nbformat": 4,
 "nbformat_minor": 5
}
